{
 "cells": [
  {
   "cell_type": "markdown",
   "metadata": {},
   "source": [
    "## Functions"
   ]
  },
  {
   "cell_type": "code",
   "execution_count": 3,
   "metadata": {},
   "outputs": [
    {
     "name": "stdout",
     "output_type": "stream",
     "text": [
      "My first function\n"
     ]
    }
   ],
   "source": [
    "def func1():  #defining a dfunction\n",
    "    print('My first function')\n",
    "func1() # calling"
   ]
  },
  {
   "cell_type": "code",
   "execution_count": 4,
   "metadata": {},
   "outputs": [
    {
     "name": "stdout",
     "output_type": "stream",
     "text": [
      "hello 1\n",
      "hello 2\n"
     ]
    }
   ],
   "source": [
    "def greet():\n",
    "    print('hello 1')\n",
    "    print('hello 2')\n",
    "greet()    "
   ]
  },
  {
   "cell_type": "code",
   "execution_count": 5,
   "metadata": {},
   "outputs": [
    {
     "name": "stdout",
     "output_type": "stream",
     "text": [
      "hello Swinal\n"
     ]
    }
   ],
   "source": [
    "# function with arguements\n",
    "def f1(nm):\n",
    "    print(\"hello\",nm)\n",
    "f1('Swinal')    "
   ]
  },
  {
   "cell_type": "code",
   "execution_count": 6,
   "metadata": {},
   "outputs": [
    {
     "name": "stdout",
     "output_type": "stream",
     "text": [
      "8\n"
     ]
    }
   ],
   "source": [
    "def add2(a,b):\n",
    "    print(a+b)\n",
    "add2(3,5)    "
   ]
  },
  {
   "cell_type": "code",
   "execution_count": 7,
   "metadata": {},
   "outputs": [
    {
     "name": "stdout",
     "output_type": "stream",
     "text": [
      "Enter a number5\n",
      "25\n"
     ]
    }
   ],
   "source": [
    "a = int(input('Enter a number'))\n",
    "def f3(a):\n",
    "    print(a*a)\n",
    "f3(a)    "
   ]
  },
  {
   "cell_type": "code",
   "execution_count": 12,
   "metadata": {},
   "outputs": [
    {
     "name": "stdout",
     "output_type": "stream",
     "text": [
      "Enter the a: 7\n",
      "Enter the b: 5\n",
      "12\n",
      "2\n",
      "35\n",
      "1.4\n"
     ]
    }
   ],
   "source": [
    "def addt(a,b):\n",
    "    print(a+b)\n",
    "def subt(a,b):\n",
    "    print(a-b)\n",
    "def mult(a,b):\n",
    "    print(a*b)\n",
    "def divt(a,b):\n",
    "    print(a/b)\n",
    "a= int(input('Enter the a: '))\n",
    "b= int(input('Enter the b: '))\n",
    "addt(a,b)\n",
    "subt(a,b)\n",
    "mult(a,b)\n",
    "divt(a,b)"
   ]
  },
  {
   "cell_type": "code",
   "execution_count": 13,
   "metadata": {},
   "outputs": [
    {
     "name": "stdout",
     "output_type": "stream",
     "text": [
      "swinal meshram\n",
      "swinal meshram\n",
      "swinal meshram\n"
     ]
    }
   ],
   "source": [
    "def student(fn,ln):\n",
    "    print(fn,ln)\n",
    "    \n",
    "#right position\n",
    "student(fn = 'swinal',ln= 'meshram')\n",
    "\n",
    "#parameter position changed\n",
    "student(ln = 'meshram', fn = 'swinal')\n",
    "\n",
    "#dicrect passing\n",
    "student('swinal','meshram')"
   ]
  },
  {
   "cell_type": "code",
   "execution_count": 16,
   "metadata": {},
   "outputs": [
    {
     "name": "stdout",
     "output_type": "stream",
     "text": [
      "('great', 'learning')\n",
      "great\n",
      "learning\n"
     ]
    }
   ],
   "source": [
    "def printinfo(*arg):\n",
    "    print(arg)\n",
    "    \n",
    "    for var in arg:\n",
    "        print(var)\n",
    "# printinfo(10,20,10)\n",
    "printinfo('great', 'learning')"
   ]
  },
  {
   "cell_type": "code",
   "execution_count": 23,
   "metadata": {},
   "outputs": [
    {
     "name": "stdout",
     "output_type": "stream",
     "text": [
      "{'first': 'great', 'mid': 'learn'}\n",
      "first great\n",
      "mid learn\n"
     ]
    }
   ],
   "source": [
    "def fn5(**arg):\n",
    "    print(arg)\n",
    "    for k,v in arg.items():\n",
    "        print(k,v)\n",
    "# fn5(1 =2,4 =5,6=7) \n",
    "fn5(first = 'great', mid = 'learn')"
   ]
  },
  {
   "cell_type": "code",
   "execution_count": 25,
   "metadata": {},
   "outputs": [
    {
     "name": "stdout",
     "output_type": "stream",
     "text": [
      "{'first_name': 'swinal', 'last_name': 'meshram'}\n",
      "first_name swinal\n",
      "last_name meshram\n"
     ]
    }
   ],
   "source": [
    "fn5(first_name = 'swinal', last_name='meshram')"
   ]
  },
  {
   "cell_type": "code",
   "execution_count": 34,
   "metadata": {},
   "outputs": [
    {
     "name": "stdout",
     "output_type": "stream",
     "text": [
      "{'a': '2', 'b': '5', 'c': '7'}\n",
      "a 2\n",
      "b 5\n",
      "c 7\n"
     ]
    }
   ],
   "source": [
    "fn5(a = '2', b = '5', c = '7')"
   ]
  },
  {
   "cell_type": "code",
   "execution_count": 35,
   "metadata": {},
   "outputs": [
    {
     "data": {
      "text/plain": [
       "{1: 2, 3: 4, 5: 6}"
      ]
     },
     "execution_count": 35,
     "metadata": {},
     "output_type": "execute_result"
    }
   ],
   "source": [
    "dict1 = {1:2,3:4,5:6}\n",
    "dict1"
   ]
  },
  {
   "cell_type": "code",
   "execution_count": 36,
   "metadata": {},
   "outputs": [
    {
     "name": "stdout",
     "output_type": "stream",
     "text": [
      "Celsius: 35\n",
      "farenheit =  95.0\n"
     ]
    }
   ],
   "source": [
    "def cel_far(n):\n",
    "    print('farenheit = ',n*1.8+32)\n",
    "cel_far(int(input('Celsius: ')))    \n",
    "    "
   ]
  },
  {
   "cell_type": "code",
   "execution_count": 45,
   "metadata": {},
   "outputs": [
    {
     "name": "stdout",
     "output_type": "stream",
     "text": [
      "Celsius =  22.6 farenheit =  72.68\n",
      "Celsius =  25.8 farenheit =  78.44\n",
      "Celsius =  33.4 farenheit =  92.12\n",
      "Celsius =  35 farenheit =  95.0\n"
     ]
    }
   ],
   "source": [
    "def cel_far1(n):\n",
    "    print ('Celsius = ',n,'farenheit = ',n*1.8+32)\n",
    "lst = [22.6,25.8,33.4,35]\n",
    "for i in lst:\n",
    "    cel_far1(i)    \n",
    "    "
   ]
  },
  {
   "cell_type": "code",
   "execution_count": 48,
   "metadata": {},
   "outputs": [
    {
     "name": "stdout",
     "output_type": "stream",
     "text": [
      "72.68\n",
      "78.44\n",
      "92.12\n",
      "95.0\n"
     ]
    }
   ],
   "source": [
    "def cel_far1(n):\n",
    "    c = n*1.8+32\n",
    "#     print(c)\n",
    "    return c\n",
    "lst = [22.6,25.8,33.4,35]\n",
    "for i in lst:\n",
    "    print(cel_far1(i))    \n",
    "    "
   ]
  },
  {
   "cell_type": "code",
   "execution_count": 62,
   "metadata": {},
   "outputs": [
    {
     "name": "stdout",
     "output_type": "stream",
     "text": [
      "do you know any other than english\n",
      "y or ny\n",
      "Enter nameswinal\n",
      "Enter langspanish\n",
      "you know spanish name is swinal\n"
     ]
    }
   ],
   "source": [
    "def greet1(x,y='english'):\n",
    "    if y=='english':\n",
    "        print('you know english name is', x)\n",
    "    elif y=='spanish':\n",
    "        print('you know spanish name is', x)  \n",
    "    elif y=='german':\n",
    "        print('you know german name is', x) \n",
    "    else:\n",
    "        print('ohh you 1 another lang', x)\n",
    "\n",
    "print('do you know any other than english')\n",
    "t = input('y or n')\n",
    "if(t=='y'):\n",
    "    greet1(input('Enter name'),input('Enter lang'))\n",
    "else:\n",
    "    greet1(input('Enetr name:'))"
   ]
  },
  {
   "cell_type": "code",
   "execution_count": 70,
   "metadata": {},
   "outputs": [
    {
     "name": "stdout",
     "output_type": "stream",
     "text": [
      "[13]\n",
      "[10, 12, 14]\n"
     ]
    }
   ],
   "source": [
    "def fn8(*n):\n",
    "    even = []\n",
    "    odd = []\n",
    "    for i in n:\n",
    "        if i%2==0:\n",
    "            even.append(i)\n",
    "        else:\n",
    "            odd.append(i)\n",
    "   \n",
    "    print(odd)\n",
    "    print(even)\n",
    "fn8(10,12,13,14)\n",
    "\n",
    "eve    \n",
    "    "
   ]
  },
  {
   "cell_type": "code",
   "execution_count": 71,
   "metadata": {},
   "outputs": [
    {
     "data": {
      "text/plain": [
       "(10, 8)"
      ]
     },
     "execution_count": 71,
     "metadata": {},
     "output_type": "execute_result"
    }
   ],
   "source": [
    "def swap(x,y):\n",
    "    return y,x\n",
    "swap(8,10)"
   ]
  },
  {
   "cell_type": "markdown",
   "metadata": {},
   "source": [
    "## global and local variable"
   ]
  },
  {
   "cell_type": "code",
   "execution_count": 79,
   "metadata": {},
   "outputs": [
    {
     "name": "stdout",
     "output_type": "stream",
     "text": [
      "10 11\n",
      "18\n",
      "val of c :  18\n"
     ]
    }
   ],
   "source": [
    "c= 18\n",
    "def a(a,b):\n",
    "    print(a,b)\n",
    "    print(c)\n",
    "def a1():\n",
    "    print('val of c : ',c)\n",
    "\n",
    "a(10,11)\n",
    "a1()"
   ]
  },
  {
   "cell_type": "code",
   "execution_count": 75,
   "metadata": {},
   "outputs": [
    {
     "name": "stdout",
     "output_type": "stream",
     "text": [
      "val of i outside 10\n",
      "value in function 5\n"
     ]
    }
   ],
   "source": [
    "i = 10\n",
    "def a3():\n",
    "    i =5\n",
    "    print('value in function',i)\n",
    "print('val of i outside',i)\n",
    "a3()"
   ]
  },
  {
   "cell_type": "code",
   "execution_count": 80,
   "metadata": {},
   "outputs": [
    {
     "name": "stdout",
     "output_type": "stream",
     "text": [
      "10\n",
      "5\n"
     ]
    }
   ],
   "source": [
    "x= 10\n",
    "print(x)\n",
    "global x \n",
    "x = 5\n",
    "print(x)"
   ]
  },
  {
   "cell_type": "markdown",
   "metadata": {},
   "source": [
    "## lambda function"
   ]
  },
  {
   "cell_type": "code",
   "execution_count": 81,
   "metadata": {},
   "outputs": [
    {
     "name": "stdout",
     "output_type": "stream",
     "text": [
      "4\n"
     ]
    }
   ],
   "source": [
    "# lambda input expression: condition\n",
    "#example\n",
    "fun = lambda x,y:x if x>y else y\n",
    "print(fun(3,4))"
   ]
  },
  {
   "cell_type": "code",
   "execution_count": 82,
   "metadata": {},
   "outputs": [
    {
     "name": "stdout",
     "output_type": "stream",
     "text": [
      "20\n"
     ]
    }
   ],
   "source": [
    "x = lambda a:a+10\n",
    "print(x(10))"
   ]
  },
  {
   "cell_type": "code",
   "execution_count": 84,
   "metadata": {},
   "outputs": [
    {
     "data": {
      "text/plain": [
       "30"
      ]
     },
     "execution_count": 84,
     "metadata": {},
     "output_type": "execute_result"
    }
   ],
   "source": [
    "x = lambda a,b : a+b\n",
    "x(10,20)"
   ]
  },
  {
   "cell_type": "code",
   "execution_count": 86,
   "metadata": {},
   "outputs": [
    {
     "name": "stdout",
     "output_type": "stream",
     "text": [
      "Enter the value of n : 5\n",
      "5\n",
      "10\n",
      "15\n",
      "20\n",
      "25\n",
      "30\n",
      "35\n",
      "40\n",
      "45\n",
      "50\n"
     ]
    }
   ],
   "source": [
    "def table(n):\n",
    "    return lambda a:a*n\n",
    "n = int(input('Enter the value of n : '))\n",
    "b = table(n)\n",
    "for i in range(1,11):\n",
    "    print(b(i))"
   ]
  },
  {
   "cell_type": "code",
   "execution_count": 90,
   "metadata": {},
   "outputs": [
    {
     "data": {
      "text/plain": [
       "True"
      ]
     },
     "execution_count": 90,
     "metadata": {},
     "output_type": "execute_result"
    }
   ],
   "source": [
    "\n",
    "a = lambda x:x%2 == 0\n",
    "a(10)"
   ]
  },
  {
   "cell_type": "markdown",
   "metadata": {},
   "source": [
    "## Map \n"
   ]
  },
  {
   "cell_type": "code",
   "execution_count": 91,
   "metadata": {},
   "outputs": [
    {
     "name": "stdout",
     "output_type": "stream",
     "text": [
      "[False, False, False, True]\n"
     ]
    }
   ],
   "source": [
    "n = [2,10,5,11]\n",
    "print(list(map(lambda x:x>10,n)))\n"
   ]
  },
  {
   "cell_type": "code",
   "execution_count": 94,
   "metadata": {},
   "outputs": [
    {
     "name": "stdout",
     "output_type": "stream",
     "text": [
      "[3, 4]\n"
     ]
    }
   ],
   "source": [
    "n = [1,2,3,4]\n",
    "print(list(filter(lambda x:x>2,n)))"
   ]
  },
  {
   "cell_type": "code",
   "execution_count": 102,
   "metadata": {},
   "outputs": [
    {
     "ename": "TypeError",
     "evalue": "'int' object is not iterable",
     "output_type": "error",
     "traceback": [
      "\u001b[1;31m---------------------------------------------------------------------------\u001b[0m",
      "\u001b[1;31mTypeError\u001b[0m                                 Traceback (most recent call last)",
      "\u001b[1;32m<ipython-input-102-c2a1c1291a59>\u001b[0m in \u001b[0;36m<module>\u001b[1;34m()\u001b[0m\n\u001b[0;32m      1\u001b[0m \u001b[1;32mfor\u001b[0m \u001b[0mi\u001b[0m \u001b[1;32min\u001b[0m \u001b[0mrange\u001b[0m\u001b[1;33m(\u001b[0m\u001b[1;36m1\u001b[0m\u001b[1;33m,\u001b[0m\u001b[1;36m11\u001b[0m\u001b[1;33m)\u001b[0m\u001b[1;33m:\u001b[0m\u001b[1;33m\u001b[0m\u001b[0m\n\u001b[1;32m----> 2\u001b[1;33m     \u001b[0mprint\u001b[0m\u001b[1;33m(\u001b[0m\u001b[0mlist\u001b[0m\u001b[1;33m(\u001b[0m\u001b[0mfilter\u001b[0m\u001b[1;33m(\u001b[0m\u001b[1;32mlambda\u001b[0m \u001b[0mx\u001b[0m\u001b[1;33m:\u001b[0m\u001b[0mx\u001b[0m\u001b[1;33m%\u001b[0m\u001b[1;36m2\u001b[0m\u001b[1;33m==\u001b[0m\u001b[1;36m0\u001b[0m\u001b[1;33m,\u001b[0m\u001b[0mi\u001b[0m\u001b[1;33m)\u001b[0m\u001b[1;33m)\u001b[0m\u001b[1;33m)\u001b[0m\u001b[1;33m\u001b[0m\u001b[0m\n\u001b[0m",
      "\u001b[1;31mTypeError\u001b[0m: 'int' object is not iterable"
     ]
    }
   ],
   "source": [
    "for i in range(1,11):\n",
    "    print(list(filter(lambda x:x%2==0,i)))"
   ]
  },
  {
   "cell_type": "code",
   "execution_count": 107,
   "metadata": {},
   "outputs": [
    {
     "name": "stdout",
     "output_type": "stream",
     "text": [
      "24\n"
     ]
    }
   ],
   "source": [
    "from functools import reduce\n",
    "n = [1,2,3,4]\n",
    "print(reduce(lambda x,y: x*y,n))"
   ]
  },
  {
   "cell_type": "code",
   "execution_count": 108,
   "metadata": {},
   "outputs": [
    {
     "name": "stdout",
     "output_type": "stream",
     "text": [
      "The product of list elements is : 35280\n"
     ]
    }
   ],
   "source": [
    "import functools\n",
    "import operator\n",
    "lis = [1,2,3,5,6,7,7,4]\n",
    "print('The product of list elements is : ',end='')\n",
    "print(functools.reduce(operator.mul,lis))"
   ]
  },
  {
   "cell_type": "markdown",
   "metadata": {},
   "source": [
    "## accumulator\n"
   ]
  },
  {
   "cell_type": "code",
   "execution_count": 112,
   "metadata": {},
   "outputs": [
    {
     "name": "stdout",
     "output_type": "stream",
     "text": [
      "sum using accumulate: \n",
      "[1, 4, 9, 17, 26]\n"
     ]
    }
   ],
   "source": [
    "import itertools\n",
    "lis = [1,3,5,8,9]\n",
    "print('sum using accumulate: ')\n",
    "print(list(itertools.accumulate(lis,lambda x,y : x+y)))"
   ]
  },
  {
   "cell_type": "code",
   "execution_count": null,
   "metadata": {},
   "outputs": [],
   "source": []
  }
 ],
 "metadata": {
  "kernelspec": {
   "display_name": "Python 3",
   "language": "python",
   "name": "python3"
  },
  "language_info": {
   "codemirror_mode": {
    "name": "ipython",
    "version": 3
   },
   "file_extension": ".py",
   "mimetype": "text/x-python",
   "name": "python",
   "nbconvert_exporter": "python",
   "pygments_lexer": "ipython3",
   "version": "3.6.4"
  }
 },
 "nbformat": 4,
 "nbformat_minor": 2
}
