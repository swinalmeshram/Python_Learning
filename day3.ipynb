{
 "cells": [
  {
   "cell_type": "markdown",
   "metadata": {},
   "source": [
    "## For-Loop"
   ]
  },
  {
   "cell_type": "code",
   "execution_count": null,
   "metadata": {},
   "outputs": [],
   "source": [
    "a=[1,2,3]\n",
    "for i in a:\n",
    "    print(i)"
   ]
  },
  {
   "cell_type": "code",
   "execution_count": null,
   "metadata": {},
   "outputs": [],
   "source": [
    "nm = 'Swinal'\n",
    "for i in nm:\n",
    "    print(i)"
   ]
  },
  {
   "cell_type": "code",
   "execution_count": null,
   "metadata": {},
   "outputs": [],
   "source": [
    "lis = ['apple', 'orange', 'banana']\n",
    "for i in lis:\n",
    "    print(i)"
   ]
  },
  {
   "cell_type": "code",
   "execution_count": null,
   "metadata": {},
   "outputs": [],
   "source": [
    "ls = [[1,2,3],['a','b','c']]\n",
    "for i in ls:\n",
    "    for j in i:\n",
    "        \n",
    "        print(j)"
   ]
  },
  {
   "cell_type": "code",
   "execution_count": null,
   "metadata": {},
   "outputs": [],
   "source": [
    "ls[0][2]"
   ]
  },
  {
   "cell_type": "code",
   "execution_count": null,
   "metadata": {},
   "outputs": [],
   "source": [
    "for i in range(50,99,4):\n",
    "    print(i)"
   ]
  },
  {
   "cell_type": "code",
   "execution_count": null,
   "metadata": {},
   "outputs": [],
   "source": [
    "num = [3,5,6,8,9,0,3,2,4,5,5]\n",
    "s = 0\n",
    "for i in num:\n",
    "    s+=i\n",
    "#     print(s)\n",
    "print(s)    "
   ]
  },
  {
   "cell_type": "code",
   "execution_count": null,
   "metadata": {},
   "outputs": [],
   "source": [
    " lis = []\n",
    "for i in range(1,11):\n",
    "    print('square of number % d :  % d'%(i, i*i))\n",
    "    "
   ]
  },
  {
   "cell_type": "code",
   "execution_count": null,
   "metadata": {},
   "outputs": [],
   "source": [
    "lis = []\n",
    "for i in range(1,11):\n",
    "    b=i**2\n",
    "    lis.append(b)\n",
    "lis  \n",
    "sum1 = sum(lis)\n",
    "print(lis,sum1)\n",
    "    "
   ]
  },
  {
   "cell_type": "code",
   "execution_count": null,
   "metadata": {},
   "outputs": [],
   "source": [
    "a_dict = {'color':'blue', 'fruit':'apple','pet':'dog'}\n",
    "for i in a_dict:\n",
    "    print(i)"
   ]
  },
  {
   "cell_type": "code",
   "execution_count": null,
   "metadata": {},
   "outputs": [],
   "source": [
    "a_dict = {'color':'blue', 'fruit':'apple','pet':'dog'}\n",
    "for i in a_dict.items():\n",
    "    print(i)"
   ]
  },
  {
   "cell_type": "code",
   "execution_count": null,
   "metadata": {},
   "outputs": [],
   "source": [
    "a_dict = {'color':'blue', 'fruit':'apple','pet':'dog'}\n",
    "for i in a_dict.values():\n",
    "    print(i)"
   ]
  },
  {
   "cell_type": "code",
   "execution_count": null,
   "metadata": {},
   "outputs": [],
   "source": [
    "a_dict = {'color':'blue', 'fruit':'apple','pet':'dog'}\n",
    "lis=[]\n",
    "for i in a_dict.values():\n",
    "    lis.append(i)\n",
    "print(lis)    "
   ]
  },
  {
   "cell_type": "code",
   "execution_count": null,
   "metadata": {},
   "outputs": [],
   "source": [
    "a_dict = {'color':'blue', 'fruit':'apple','pet':'dog'}\n",
    "\n",
    "for i,y in a_dict.items():\n",
    "    print(i,'--->',y)\n",
    "   "
   ]
  },
  {
   "cell_type": "code",
   "execution_count": null,
   "metadata": {},
   "outputs": [],
   "source": [
    "a=0.45566\n",
    "round(a,3)"
   ]
  },
  {
   "cell_type": "code",
   "execution_count": null,
   "metadata": {},
   "outputs": [],
   "source": [
    "prices = {'apple':0.40,'orange':0.35,'banana':0.25}\n",
    "for k, v in prices.items():\n",
    "    prices[k] = round(v*0.9,2)\n",
    "print(prices)    "
   ]
  },
  {
   "cell_type": "code",
   "execution_count": null,
   "metadata": {},
   "outputs": [],
   "source": [
    "adj = ['red','big','cherry']\n",
    "fruits = ['apple','banana','cherry']\n",
    "for i in adj:\n",
    "   \n",
    "    for j in fruits:\n",
    "       \n",
    "        print(i,j)"
   ]
  },
  {
   "cell_type": "code",
   "execution_count": null,
   "metadata": {},
   "outputs": [],
   "source": [
    "## multiplication table for any n number\n",
    "n = int(input())\n",
    "for i in range(1,11):\n",
    "    m = n*i\n",
    "    print(' %d x %d is %d'%(n,i,m))"
   ]
  },
  {
   "cell_type": "code",
   "execution_count": null,
   "metadata": {},
   "outputs": [],
   "source": [
    "p = int(input('Enter Power Value  : '))\n",
    "for i in range(1,6):\n",
    "    s = i ** p\n",
    "    print('power of ',i,'=', s)"
   ]
  },
  {
   "cell_type": "code",
   "execution_count": null,
   "metadata": {},
   "outputs": [],
   "source": [
    "print(\"   Number :  Status\")\n",
    "# odd = []\n",
    "# even = []\n",
    "for i in range(1,11):\n",
    "\n",
    "    if i%2 == 0:\n",
    "        print('number ',i,'is even')\n",
    "        #even.append(i)\n",
    "    else:\n",
    "        print('number ',i,'is odd')\n",
    "        #odd.append(i)\n",
    "# print('odd list is',odd)\n",
    "# print('even list is',even)\n",
    "        "
   ]
  },
  {
   "cell_type": "code",
   "execution_count": null,
   "metadata": {},
   "outputs": [],
   "source": [
    "#print(\"   Number :  Status\")\n",
    "odd = []\n",
    "even = []\n",
    "for i in range(1,11):\n",
    "\n",
    "    if i%2 == 0:\n",
    "        #print('number ',i,'is even')\n",
    "        even.append(i)\n",
    "    else:\n",
    "        #print('number ',i,'is odd')\n",
    "        odd.append(i)\n",
    "print('odd list is',odd)\n",
    "print('even list is',even)\n",
    "        "
   ]
  },
  {
   "cell_type": "code",
   "execution_count": null,
   "metadata": {},
   "outputs": [],
   "source": [
    "num = []\n",
    "for i in range(1,101):\n",
    "    if i%5==0 and i%7==0:\n",
    "        num.append(i)\n",
    "        print(num)\n",
    "print(num) \n",
    "print(sum(num))"
   ]
  },
  {
   "cell_type": "code",
   "execution_count": null,
   "metadata": {},
   "outputs": [],
   "source": [
    "##try this palindrome method\n",
    "lst = [\"great\",\"swinal\",\"mom\",\"wow\",\"learning\",\"rapido\"]\n",
    "palindrome_list = []\n",
    "non_palin_list=[]\n",
    "for i in lst:\n",
    "    cnt = 0\n",
    "    tst = lst[cnt][::-1]\n",
    "    if lst[cnt]==tst[cnt]:\n",
    "        palindrome_list.append(i)\n",
    "    else:\n",
    "        non_palin_list.append(i)\n",
    "    cnt +=1    \n",
    "print('Original list: ', lst)\n",
    "print('Palindrome List : ',palindrome_list)\n",
    "print('Non Palindrome List : ',non_palin_list)"
   ]
  },
  {
   "cell_type": "code",
   "execution_count": null,
   "metadata": {},
   "outputs": [],
   "source": [
    "lst = [\"great\",\"swinal\",\"mom\",\"wow\",\"learning\",\"rapido\"]\n",
    "lst[0][1]"
   ]
  },
  {
   "cell_type": "code",
   "execution_count": null,
   "metadata": {},
   "outputs": [],
   "source": [
    "lst = [\"great\",\"swinal\",\"mom\",\"wow\",\"learning\",\"rapido\"]\n",
    "palindrome_list = []\n",
    "non_palin_list=[]\n",
    "for i in lst:\n",
    "    i_rev = i[::-1]\n",
    "    if i == i_rev:\n",
    "        palindrome_list.append(i)\n",
    "    else:\n",
    "        non_palin_list.append(i)\n",
    "      \n",
    "print('Original list: ', lst)\n",
    "print('Palindrome List : ',palindrome_list)\n",
    "print('Non Palindrome List : ',non_palin_list)"
   ]
  },
  {
   "cell_type": "code",
   "execution_count": null,
   "metadata": {},
   "outputs": [],
   "source": [
    "# Factorial of a number\n",
    "n = int(input(\"Enter a anumber \"))\n",
    "fact = 1\n",
    "for i in range(1,n+1):\n",
    "    fact = fact*i\n",
    "print(fact)    "
   ]
  },
  {
   "cell_type": "code",
   "execution_count": null,
   "metadata": {},
   "outputs": [],
   "source": [
    "# use of break\n",
    "for i in 'greatlearning':\n",
    "    if i=='t':\n",
    "        \n",
    "        break\n",
    "    print(i)"
   ]
  },
  {
   "cell_type": "code",
   "execution_count": null,
   "metadata": {},
   "outputs": [],
   "source": [
    "for i in range(110,131):\n",
    "    if i==124:\n",
    "        print('match found')\n",
    "        continue\n",
    "    print(i)    "
   ]
  },
  {
   "cell_type": "code",
   "execution_count": null,
   "metadata": {},
   "outputs": [],
   "source": [
    "x = 0\n",
    "while x<11:\n",
    "    print(x)\n",
    "    x+=1"
   ]
  },
  {
   "cell_type": "code",
   "execution_count": null,
   "metadata": {},
   "outputs": [],
   "source": [
    "i=0\n",
    "while i<=5:\n",
    "    \n",
    "    print('great learninig')\n",
    "    i=i+1"
   ]
  },
  {
   "cell_type": "code",
   "execution_count": null,
   "metadata": {},
   "outputs": [],
   "source": [
    "n=10\n",
    "while n >= 0:\n",
    "    print(n)\n",
    "    n-=1"
   ]
  },
  {
   "cell_type": "code",
   "execution_count": null,
   "metadata": {},
   "outputs": [],
   "source": [
    "n = int(input('Enter number : '))\n",
    "i = 0\n",
    "while i<n:\n",
    "    s= i**2\n",
    "    print(i,s)\n",
    "    i+=1\n",
    "   \n",
    "    "
   ]
  },
  {
   "cell_type": "code",
   "execution_count": null,
   "metadata": {},
   "outputs": [],
   "source": [
    "colors = ['red','black','blue']\n",
    "i = 0\n",
    "while i<len(colors):\n",
    "    print(colors[i])\n",
    "    i+=1"
   ]
  },
  {
   "cell_type": "code",
   "execution_count": null,
   "metadata": {},
   "outputs": [],
   "source": [
    "n = int(input())\n",
    "i = 0\n",
    "j=0\n",
    "while i<=n:\n",
    "    j=j+i\n",
    "    i+=1\n",
    "\n",
    "print(j)\n",
    "    \n",
    "    "
   ]
  },
  {
   "cell_type": "code",
   "execution_count": null,
   "metadata": {},
   "outputs": [],
   "source": [
    "n=5\n",
    "while n>0:\n",
    "    n-=1\n",
    "    if n==2:\n",
    "        break\n",
    "    print(n)    "
   ]
  },
  {
   "cell_type": "code",
   "execution_count": null,
   "metadata": {},
   "outputs": [],
   "source": [
    "n=5\n",
    "while n>0:\n",
    "    n-=1\n",
    "    if n==2:\n",
    "        continue\n",
    "    print(n)    "
   ]
  },
  {
   "cell_type": "code",
   "execution_count": null,
   "metadata": {},
   "outputs": [],
   "source": [
    "count = 0\n",
    "while(1):\n",
    "    print(count)\n",
    "    count +=1\n",
    "    if count >=5:\n",
    "        break"
   ]
  },
  {
   "cell_type": "markdown",
   "metadata": {},
   "source": [
    "## List Comprehensions"
   ]
  },
  {
   "cell_type": "code",
   "execution_count": 4,
   "metadata": {},
   "outputs": [
    {
     "data": {
      "text/plain": [
       "[0, 2, 4, 6, 8, 10]"
      ]
     },
     "execution_count": 4,
     "metadata": {},
     "output_type": "execute_result"
    }
   ],
   "source": [
    "n=10\n",
    "values = [x for x in range(0,n+1) if x%2==0]\n",
    "values"
   ]
  },
  {
   "cell_type": "code",
   "execution_count": 5,
   "metadata": {},
   "outputs": [
    {
     "data": {
      "text/plain": [
       "[35, 70]"
      ]
     },
     "execution_count": 5,
     "metadata": {},
     "output_type": "execute_result"
    }
   ],
   "source": [
    "value = [x for x in range(1,101) if(x%5==0 and x%7==0)]\n",
    "value"
   ]
  },
  {
   "cell_type": "code",
   "execution_count": 6,
   "metadata": {},
   "outputs": [
    {
     "data": {
      "text/plain": [
       "[2, 3, 5, 7, 11, 13, 17, 19, 23, 29, 31, 37, 41, 43, 47]"
      ]
     },
     "execution_count": 6,
     "metadata": {},
     "output_type": "execute_result"
    }
   ],
   "source": [
    "#method 1 for prime numbers\n",
    "noprimes = [j for i in range(2,8) for j in range(i*2,50,i)]\n",
    "primes = [x for x in range(2,50) if x not in noprimes]\n",
    "primes"
   ]
  },
  {
   "cell_type": "code",
   "execution_count": 22,
   "metadata": {},
   "outputs": [
    {
     "name": "stdout",
     "output_type": "stream",
     "text": [
      "Enter upper range15\n",
      "prime 2\n",
      "prime 3\n",
      "prime 5\n",
      "prime 7\n",
      "prime 11\n",
      "prime 13\n"
     ]
    }
   ],
   "source": [
    "#print prime numbers method 2\n",
    "n = int(input('Enter upper range'))\n",
    "for num in range(1,n+1):\n",
    "    if num>1:\n",
    "        for i in range(2,num):\n",
    "            if(num%i)==0:\n",
    "                break\n",
    "        else:\n",
    "            print('prime',num)"
   ]
  },
  {
   "cell_type": "code",
   "execution_count": 20,
   "metadata": {},
   "outputs": [
    {
     "name": "stdout",
     "output_type": "stream",
     "text": [
      "A\n",
      "B\n",
      "C\n",
      "D\n"
     ]
    },
    {
     "data": {
      "text/plain": [
       "['A', 'B', 'C', 'D']"
      ]
     },
     "execution_count": 20,
     "metadata": {},
     "output_type": "execute_result"
    }
   ],
   "source": [
    "letters = ['a','b','c','d']\n",
    "cap = []\n",
    "for i in letters:\n",
    "    i =i.upper()\n",
    "    print(i)\n",
    "    cap.append(i)\n",
    "cap\n",
    "    "
   ]
  },
  {
   "cell_type": "code",
   "execution_count": 25,
   "metadata": {},
   "outputs": [
    {
     "data": {
      "text/plain": [
       "['A', 'B', 'C', 'D']"
      ]
     },
     "execution_count": 25,
     "metadata": {},
     "output_type": "execute_result"
    }
   ],
   "source": [
    "letters = ['a','b','c','d']\n",
    "blt=[x.upper() for x in letters]\n",
    "blt\n"
   ]
  },
  {
   "cell_type": "code",
   "execution_count": null,
   "metadata": {},
   "outputs": [],
   "source": []
  }
 ],
 "metadata": {
  "kernelspec": {
   "display_name": "Python 3",
   "language": "python",
   "name": "python3"
  },
  "language_info": {
   "codemirror_mode": {
    "name": "ipython",
    "version": 3
   },
   "file_extension": ".py",
   "mimetype": "text/x-python",
   "name": "python",
   "nbconvert_exporter": "python",
   "pygments_lexer": "ipython3",
   "version": "3.6.4"
  }
 },
 "nbformat": 4,
 "nbformat_minor": 2
}
